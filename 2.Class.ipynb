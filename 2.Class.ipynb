{
 "cells": [
  {
   "cell_type": "code",
   "execution_count": 3,
   "metadata": {},
   "outputs": [],
   "source": [
    "class multimes():\n",
    "    def WeightBmi():\n",
    "        num3=int(input(\"Enter the BMI Index:\"))\n",
    "        if(num3<18.5):\n",
    "            print(\"underweight\")\n",
    "            weight=\"under weight\"\n",
    "        elif(num3<24.9):\n",
    "            print(\"normal\")\n",
    "            weight=\"normal weight\"\n",
    "        elif(num3<35.2):\n",
    "            print(\"over weight\")\n",
    "            weight=\"over weight\"\n",
    "        elif(num3<40.5):\n",
    "            print(\"obese\")\n",
    "            weight=\"obese weight\"\n",
    "        else:\n",
    "            print(\"extreme\")\n",
    "            weight=\"extrme weight\"\n",
    "        return weight\n",
    "    def Oddeven():\n",
    "        num=int(input(\"enter the number:\"))\n",
    "        if((num%2)==0):\n",
    "            print(\"even\")\n",
    "            msg=\"even\"\n",
    "        else:\n",
    "            print(\"odd\")\n",
    "            msg=\"odd\"\n",
    "        return msg\n",
    "\n",
    "\n"
   ]
  },
  {
   "cell_type": "code",
   "execution_count": 4,
   "metadata": {},
   "outputs": [
    {
     "name": "stdout",
     "output_type": "stream",
     "text": [
      "Enter the BMI Index:30\n",
      "over weight\n"
     ]
    },
    {
     "data": {
      "text/plain": [
       "'over weight'"
      ]
     },
     "execution_count": 4,
     "metadata": {},
     "output_type": "execute_result"
    }
   ],
   "source": [
    "multimes.WeightBmi()"
   ]
  },
  {
   "cell_type": "code",
   "execution_count": 5,
   "metadata": {},
   "outputs": [
    {
     "name": "stdout",
     "output_type": "stream",
     "text": [
      "enter the number:20\n",
      "even\n"
     ]
    },
    {
     "data": {
      "text/plain": [
       "'even'"
      ]
     },
     "execution_count": 5,
     "metadata": {},
     "output_type": "execute_result"
    }
   ],
   "source": [
    "multimes.Oddeven()"
   ]
  },
  {
   "cell_type": "code",
   "execution_count": null,
   "metadata": {},
   "outputs": [],
   "source": []
  }
 ],
 "metadata": {
  "kernelspec": {
   "display_name": "Python 3",
   "language": "python",
   "name": "python3"
  },
  "language_info": {
   "codemirror_mode": {
    "name": "ipython",
    "version": 3
   },
   "file_extension": ".py",
   "mimetype": "text/x-python",
   "name": "python",
   "nbconvert_exporter": "python",
   "pygments_lexer": "ipython3",
   "version": "3.7.4"
  }
 },
 "nbformat": 4,
 "nbformat_minor": 2
}
